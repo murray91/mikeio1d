{
 "cells": [
  {
   "cell_type": "code",
   "execution_count": 1,
   "metadata": {},
   "outputs": [],
   "source": [
    "from mikeio1d import Res1D"
   ]
  },
  {
   "cell_type": "markdown",
   "metadata": {},
   "source": [
    "# Test read geometry for reaches / nodes"
   ]
  },
  {
   "cell_type": "code",
   "execution_count": 2,
   "metadata": {},
   "outputs": [
    {
     "data": {
      "text/plain": [
       "<mikeio1d.Res1D>\n",
       "Start time: 1994-08-07 16:35:00\n",
       "End time: 1994-08-07 18:35:00\n",
       "# Timesteps: 110\n",
       "# Catchments: 0\n",
       "# Nodes: 119\n",
       "# Reaches: 118\n",
       "# Globals: 0\n",
       "0 - WaterLevel <m>\n",
       "1 - Discharge <m^3/s>"
      ]
     },
     "execution_count": 2,
     "metadata": {},
     "output_type": "execute_result"
    }
   ],
   "source": [
    "res = Res1D(r'..\\tests\\testdata\\Network.res1d')\n",
    "res"
   ]
  },
  {
   "cell_type": "markdown",
   "metadata": {},
   "source": [
    "## Get sample node and reach"
   ]
  },
  {
   "cell_type": "code",
   "execution_count": 3,
   "metadata": {},
   "outputs": [
    {
     "data": {
      "text/plain": [
       "<DHI.Mike1D.ResultDataAccess.Res1DManhole object at 0x000001E9D7AE3A60>"
      ]
     },
     "execution_count": 3,
     "metadata": {},
     "output_type": "execute_result"
    }
   ],
   "source": [
    "node = res.nodes['1']\n",
    "node"
   ]
  },
  {
   "cell_type": "code",
   "execution_count": 4,
   "metadata": {},
   "outputs": [
    {
     "data": {
      "text/plain": [
       "<DHI.Mike1D.ResultDataAccess.Res1DReach object at 0x000001E9D7AF85E0>"
      ]
     },
     "execution_count": 4,
     "metadata": {},
     "output_type": "execute_result"
    }
   ],
   "source": [
    "reach = res.reaches['109l1']\n",
    "reach"
   ]
  },
  {
   "cell_type": "markdown",
   "metadata": {},
   "source": [
    "## Print coordinates of points on node"
   ]
  },
  {
   "cell_type": "code",
   "execution_count": 5,
   "metadata": {},
   "outputs": [
    {
     "name": "stdout",
     "output_type": "stream",
     "text": [
      "-687934.6000976562 -1056500.69921875\n"
     ]
    }
   ],
   "source": [
    "print(node.get_XCoordinate(), node.get_YCoordinate())"
   ]
  },
  {
   "cell_type": "markdown",
   "metadata": {},
   "source": [
    "## Print coordinates of points along reach"
   ]
  },
  {
   "cell_type": "code",
   "execution_count": 6,
   "metadata": {},
   "outputs": [
    {
     "data": {
      "text/plain": [
       "[<DHI.Mike1D.Generic.Spatial.Geometry.Coordinate object at 0x000001E9D7EF7880>,\n",
       " <DHI.Mike1D.Generic.Spatial.Geometry.Coordinate object at 0x000001E9D7EF78B0>]"
      ]
     },
     "execution_count": 6,
     "metadata": {},
     "output_type": "execute_result"
    }
   ],
   "source": [
    "dpoints = list(reach.get_DigiPoints())\n",
    "dpoints"
   ]
  },
  {
   "cell_type": "code",
   "execution_count": 7,
   "metadata": {},
   "outputs": [
    {
     "name": "stdout",
     "output_type": "stream",
     "text": [
      "-687740.1002807617 -1056132.1002807617\n",
      "-687766.4008789062 -1056138.6010131836\n"
     ]
    }
   ],
   "source": [
    "for dpoint in dpoints:\n",
    "    print(dpoint.get_X(), dpoint.get_Y())"
   ]
  },
  {
   "cell_type": "markdown",
   "metadata": {},
   "source": [
    "# Test read geometry for catchments"
   ]
  },
  {
   "cell_type": "code",
   "execution_count": 8,
   "metadata": {},
   "outputs": [
    {
     "data": {
      "text/plain": [
       "<mikeio1d.Res1D>\n",
       "Start time: 1994-08-07 16:35:00\n",
       "End time: 1994-08-07 18:35:00\n",
       "# Timesteps: 108\n",
       "# Catchments: 31\n",
       "# Nodes: 0\n",
       "# Reaches: 0\n",
       "# Globals: 0\n",
       "0 - TotalRunOff <m^3/s>\n",
       "1 - ActualRainfall <m/s>\n",
       "2 - ZinkLoadRR <kg/s>\n",
       "3 - ZinkMassAccumulatedRR <kg>\n",
       "4 - ZinkRR <mg/l>"
      ]
     },
     "execution_count": 8,
     "metadata": {},
     "output_type": "execute_result"
    }
   ],
   "source": [
    "res = Res1D(r'..\\tests\\testdata\\Catchments.res1d')\n",
    "res"
   ]
  },
  {
   "cell_type": "markdown",
   "metadata": {},
   "source": [
    "## Get sample catchment"
   ]
  },
  {
   "cell_type": "code",
   "execution_count": 9,
   "metadata": {},
   "outputs": [
    {
     "data": {
      "text/plain": [
       "<DHI.Mike1D.ResultDataAccess.Res1DCatchment object at 0x000001E9D7AE3B50>"
      ]
     },
     "execution_count": 9,
     "metadata": {},
     "output_type": "execute_result"
    }
   ],
   "source": [
    "catchment = res.catchments['100_16_16']\n",
    "catchment"
   ]
  },
  {
   "cell_type": "markdown",
   "metadata": {},
   "source": [
    "# Print coordinates of points forming the catchment"
   ]
  },
  {
   "cell_type": "code",
   "execution_count": 10,
   "metadata": {},
   "outputs": [
    {
     "data": {
      "text/plain": [
       "<DHI.Mike1D.Generic.ElementSetDefinition object at 0x000001E9B29CF5B0>"
      ]
     },
     "execution_count": 10,
     "metadata": {},
     "output_type": "execute_result"
    }
   ],
   "source": [
    "shape = catchment.get_Shape()\n",
    "shape"
   ]
  },
  {
   "cell_type": "code",
   "execution_count": 11,
   "metadata": {},
   "outputs": [
    {
     "data": {
      "text/plain": [
       "<DHI.Mike1D.Generic.ElementDefinition object at 0x000001E9D7EF7160>"
      ]
     },
     "execution_count": 11,
     "metadata": {},
     "output_type": "execute_result"
    }
   ],
   "source": [
    "element = list(shape)[0]\n",
    "element"
   ]
  },
  {
   "cell_type": "code",
   "execution_count": 12,
   "metadata": {},
   "outputs": [
    {
     "data": {
      "text/plain": [
       "[<DHI.Mike1D.Generic.Spatial.Geometry.Coordinate object at 0x000001E9D7AE3BB0>,\n",
       " <DHI.Mike1D.Generic.Spatial.Geometry.Coordinate object at 0x000001E9D7EF7940>,\n",
       " <DHI.Mike1D.Generic.Spatial.Geometry.Coordinate object at 0x000001E9D7EF7FA0>,\n",
       " <DHI.Mike1D.Generic.Spatial.Geometry.Coordinate object at 0x000001E9D7EF7F70>,\n",
       " <DHI.Mike1D.Generic.Spatial.Geometry.Coordinate object at 0x000001E9D7EF7EB0>,\n",
       " <DHI.Mike1D.Generic.Spatial.Geometry.Coordinate object at 0x000001E9D7EF7C40>]"
      ]
     },
     "execution_count": 12,
     "metadata": {},
     "output_type": "execute_result"
    }
   ],
   "source": [
    "vertices = list(element.get_Vertices())\n",
    "vertices"
   ]
  },
  {
   "cell_type": "code",
   "execution_count": 13,
   "metadata": {},
   "outputs": [
    {
     "name": "stdout",
     "output_type": "stream",
     "text": [
      "-687895.1632080078 -1056385.7786865234\n",
      "-687849.0208129883 -1056284.5764770508\n",
      "-687900.6370849609 -1056313.5150146484\n",
      "-687949.9086914062 -1056434.4193115234\n",
      "-687923.3170776367 -1056450.6895141602\n",
      "-687895.1632080078 -1056385.7786865234\n"
     ]
    }
   ],
   "source": [
    "for vertex in vertices:\n",
    "    print(vertex.get_X(), vertex.get_Y())"
   ]
  },
  {
   "cell_type": "markdown",
   "metadata": {},
   "source": [
    "# Export to shapefile"
   ]
  },
  {
   "cell_type": "code",
   "execution_count": 14,
   "metadata": {},
   "outputs": [],
   "source": [
    "# This would add a dependency\n",
    "import shapefile"
   ]
  },
  {
   "cell_type": "code",
   "execution_count": 15,
   "metadata": {},
   "outputs": [
    {
     "data": {
      "text/plain": [
       "<mikeio1d.Res1D>\n",
       "Start time: 1994-08-07 16:35:00\n",
       "End time: 1994-08-07 18:35:00\n",
       "# Timesteps: 110\n",
       "# Catchments: 0\n",
       "# Nodes: 119\n",
       "# Reaches: 118\n",
       "# Globals: 0\n",
       "0 - WaterLevel <m>\n",
       "1 - Discharge <m^3/s>"
      ]
     },
     "execution_count": 15,
     "metadata": {},
     "output_type": "execute_result"
    }
   ],
   "source": [
    "res = Res1D(r'..\\tests\\testdata\\Network.res1d')\n",
    "res"
   ]
  },
  {
   "cell_type": "markdown",
   "metadata": {},
   "source": [
    "## Export all nodes to a shapefile"
   ]
  },
  {
   "cell_type": "code",
   "execution_count": 16,
   "metadata": {},
   "outputs": [],
   "source": [
    "with shapefile.Writer('Nodes.shp') as shp:\n",
    "    shp.field('id', 'C')\n",
    "    for node in res.nodes:\n",
    "        shp.point(res.nodes[node].get_XCoordinate(), res.nodes[node].get_YCoordinate())\n",
    "        shp.record(node)"
   ]
  },
  {
   "cell_type": "markdown",
   "metadata": {},
   "source": [
    "## Export all reaches to a shapefile"
   ]
  },
  {
   "cell_type": "code",
   "execution_count": 17,
   "metadata": {},
   "outputs": [],
   "source": [
    "with shapefile.Writer('Reaches.shp') as shp:\n",
    "    shp.field('id', 'C')\n",
    "    for reach in res.reaches:\n",
    "        line_points = []\n",
    "        for dpoint in list(res.reaches[reach].get_DigiPoints()):\n",
    "            line_points.append([dpoint.get_X(), dpoint.get_Y()])\n",
    "        shp.line([line_points])\n",
    "        shp.record(reach)"
   ]
  },
  {
   "cell_type": "markdown",
   "metadata": {},
   "source": [
    "## Export all catchments to a shapefile"
   ]
  },
  {
   "cell_type": "code",
   "execution_count": 18,
   "metadata": {},
   "outputs": [
    {
     "data": {
      "text/plain": [
       "<mikeio1d.Res1D>\n",
       "Start time: 1994-08-07 16:35:00\n",
       "End time: 1994-08-07 18:35:00\n",
       "# Timesteps: 108\n",
       "# Catchments: 31\n",
       "# Nodes: 0\n",
       "# Reaches: 0\n",
       "# Globals: 0\n",
       "0 - TotalRunOff <m^3/s>\n",
       "1 - ActualRainfall <m/s>\n",
       "2 - ZinkLoadRR <kg/s>\n",
       "3 - ZinkMassAccumulatedRR <kg>\n",
       "4 - ZinkRR <mg/l>"
      ]
     },
     "execution_count": 18,
     "metadata": {},
     "output_type": "execute_result"
    }
   ],
   "source": [
    "res = Res1D(r'..\\tests\\testdata\\Catchments.res1d')\n",
    "res"
   ]
  },
  {
   "cell_type": "code",
   "execution_count": 19,
   "metadata": {},
   "outputs": [],
   "source": [
    "with shapefile.Writer('Catchments.shp') as shp:\n",
    "    shp.field('id', 'C')\n",
    "    for id, catchment in res.catchments.items():\n",
    "        poly_points = []\n",
    "        shape = catchment.get_Shape()\n",
    "        element = list(shape)[0]\n",
    "        vertices = list(element.get_Vertices())\n",
    "        for vertex in vertices:\n",
    "            poly_points.append([vertex.get_X(), vertex.get_Y()])\n",
    "        shp.poly([poly_points])\n",
    "        shp.record(id)"
   ]
  },
  {
   "cell_type": "markdown",
   "metadata": {},
   "source": [
    "# Clean up"
   ]
  },
  {
   "cell_type": "code",
   "execution_count": 21,
   "metadata": {},
   "outputs": [],
   "source": [
    "import os\n",
    "\n",
    "for filename in os.listdir('.'):\n",
    "    if 'Catchments' in filename:\n",
    "        os.remove(filename)\n",
    "    if 'Nodes' in filename:\n",
    "        os.remove(filename)\n",
    "    if 'Reaches' in filename:\n",
    "        os.remove(filename)\n"
   ]
  }
 ],
 "metadata": {
  "interpreter": {
   "hash": "d72ab1b8fff54702c3057dc327339697b48be058ad04ef761007726ac4f4f19e"
  },
  "kernelspec": {
   "display_name": "Python 3.9.7 64-bit ('venv-basic': venv)",
   "language": "python",
   "name": "python3"
  },
  "language_info": {
   "codemirror_mode": {
    "name": "ipython",
    "version": 3
   },
   "file_extension": ".py",
   "mimetype": "text/x-python",
   "name": "python",
   "nbconvert_exporter": "python",
   "pygments_lexer": "ipython3",
   "version": "3.8.10"
  },
  "orig_nbformat": 4
 },
 "nbformat": 4,
 "nbformat_minor": 2
}
